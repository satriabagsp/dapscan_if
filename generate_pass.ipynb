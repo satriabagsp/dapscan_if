{
 "cells": [
  {
   "cell_type": "code",
   "execution_count": 1,
   "metadata": {},
   "outputs": [],
   "source": [
    "import streamlit as st\n",
    "import streamlit_authenticator as stauth"
   ]
  },
  {
   "cell_type": "code",
   "execution_count": 2,
   "metadata": {},
   "outputs": [
    {
     "data": {
      "text/plain": [
       "['$2b$12$HP6Jh8zYmvL5NlcRh7YDpehhp5n1Ta7hbyP2gJ4OxHT5VfJc/ZbW6']"
      ]
     },
     "execution_count": 2,
     "metadata": {},
     "output_type": "execute_result"
    }
   ],
   "source": [
    "hashed_passwords = stauth.Hasher(['123456']).generate()\n",
    "hashed_passwords"
   ]
  },
  {
   "cell_type": "code",
   "execution_count": 8,
   "metadata": {},
   "outputs": [],
   "source": [
    "from deta import Deta  # Import Deta\n",
    "import io\n",
    "\n",
    "# Initialize with a Project Key\n",
    "deta = Deta(\"c07l4ogp_yxzqrWtvjeEXQEnvK5A31FzeVfd4fRuh\")"
   ]
  },
  {
   "cell_type": "code",
   "execution_count": 9,
   "metadata": {},
   "outputs": [],
   "source": [
    "# This how to connect to or create a database.\n",
    "drive = deta.Drive(\"user_data\")"
   ]
  },
  {
   "cell_type": "code",
   "execution_count": 10,
   "metadata": {},
   "outputs": [
    {
     "data": {
      "text/plain": [
       "{'cookie': {'expiry_days': 30,\n",
       "  'key': 'some_signature_key',\n",
       "  'name': 'some_cookie_name'},\n",
       " 'credentials': {'usernames': {'adi_nugroho': {'email': 'adi_nugroho',\n",
       "    'name': 'Adi Nugroho SST',\n",
       "    'password': '$2b$12$9M6FI2Z.ppiylBIYUQoJCOjnzUZ4I1H6uppdSCqoKP.bpHbVsXsMC'},\n",
       "   'admin': {'email': 'test_user@gmail.com',\n",
       "    'name': 'admin',\n",
       "    'password': '$2b$12$u3aoS2Sn2WBKym.yUd/5x.gfJoNHPAugTi8zuRXSEQStzqtzgNDJu'},\n",
       "   'adwi_hastuti': {'email': 'adwi_hastuti',\n",
       "    'name': 'Adwi Hastuti SST',\n",
       "    'password': '$2b$12$PQ9zueBOhKxH.6.rYX5fUuHU.x844WSB88v0BZDSfrs.8THknZt92'},\n",
       "   'alvina_clarissa': {'email': 'alvina_clarissa',\n",
       "    'name': 'Alvina Clarissa SST',\n",
       "    'password': '$2b$12$skWQqtDrHH4G5WHZHkx8MOtgXbLTkeY0/u.3ZpNB.89KDJtu/MGXK'},\n",
       "   'ana_lailatul_fitriyani': {'email': 'ana_lailatul_fitriyani',\n",
       "    'name': 'Ana Lailatul Fitriyani S.Tr.Stat.',\n",
       "    'password': '$2b$12$5oG3Sd7AK.bUxfmZcwWFk.N0nBEXwDAetxwu0EKEu0qsSACi55kF.'},\n",
       "   'bayu_dwi_kurniawan': {'email': 'bayu_dwi_kurniawan',\n",
       "    'name': 'Bayu Dwi Kurniawan S.Tr.Stat.',\n",
       "    'password': '$2b$12$ma6gSiz5e/b8EcKT6.qCEu1AN3rGMd0.aksusfu7AYdE3K6sYauB6'},\n",
       "   'chairul_anam': {'email': 'chairul_anam',\n",
       "    'name': 'Chairul Anam SAP',\n",
       "    'password': '$2b$12$VL7w10Ol9WwDTaTug3Uf8ui1gGibiMRIHnphIsyK4rTZqePWjiHtG'},\n",
       "   'dede_yoga_paramartha': {'email': 'dede_yoga_paramartha',\n",
       "    'name': 'Dede Yoga Paramartha S.Tr.Stat',\n",
       "    'password': '$2b$12$qMH1a0Y26LCbvQmCFuTLeO9Ecf99Qo9eaUdoNmIkXrvlj/Kfyk2I6'},\n",
       "   'dewi_krismawati': {'email': 'dewi_krismawati',\n",
       "    'name': 'Dewi Krismawati SST, M.T.I',\n",
       "    'password': '$2b$12$Lskk7jSacrgxQRPFfSdE5e/fQv1cEmcFoCarVxp5xWOIXrt9Ih6lW'},\n",
       "   'dewi_lestari_amaliah': {'email': 'dewi_lestari_amaliah',\n",
       "    'name': 'Dewi Lestari Amaliah SST',\n",
       "    'password': '$2b$12$5OOPVANnKfc4.wTFv6Q8TOC7E8nHr4jXrtXoXOFUKYJ9aFyBTZEyq'},\n",
       "   'dewi_widyawati': {'email': 'dewi_widyawati',\n",
       "    'name': 'Dewi Widyawati S.Tr.Stat.',\n",
       "    'password': '$2b$12$537EafrvXKCNDs/a29bdlOXOCHapeejEQt1NZWvPhengvcj98PsLq'},\n",
       "   'dhiar_niken_larasati': {'email': 'dhiar_niken_larasati',\n",
       "    'name': 'Dhiar Niken Larasati SST, M.E.',\n",
       "    'password': '$2b$12$ckTWpIRVSO9hHrqr.d7uDu59jBYtZNS3J.scuYIeZXUST7G/OB.zC'},\n",
       "   'didit_puji_hariyanto': {'email': 'didit_puji_hariyanto',\n",
       "    'name': 'Didit Puji Hariyanto SST',\n",
       "    'password': '$2b$12$sB8N7LGjepOJaHfGU4JxGOyz5tGBYqNFobseNKT9/I7vv09Jx3C4i'},\n",
       "   'dimas_hari_santoso': {'email': 'dimas_hari_santoso',\n",
       "    'name': 'Dimas Hari Santoso S.Si, M.Ec, M.E',\n",
       "    'password': '$2b$12$cn2h.XLOFnkuFIJ6f5HgOeaiU4.ygBPFaOmSleXAuvDbZAHDtNYmy'},\n",
       "   'dyah_retno_prihatinningsih': {'email': 'dyah_retno_prihatinningsih',\n",
       "    'name': 'Dyah Retno Prihatinningsih B.St',\n",
       "    'password': '$2b$12$GWOUQKUpVvfIJkbMcCPHWOCCWQEwOzzS9pZyG8cNA8tAPa6FTNSya'},\n",
       "   'ema_tusianti': {'email': 'ema_tusianti',\n",
       "    'name': 'Ema Tusianti SST, SAB, M.T., M.Sc',\n",
       "    'password': '$2b$12$u6Kbi66JcyhxL14pit.H7OTHZ6CrvSlS/0CC3XDCYOU1EDmL9twPK'},\n",
       "   'erna_yulianingsih': {'email': 'erna_yulianingsih',\n",
       "    'name': 'Erna Yulianingsih SST, M.Appl.Ecmets',\n",
       "    'password': '$2b$12$.XDFgQwC4DWmogHotKgQle6ZyOPWhJbobgLL7cLdc7oZHsfiClDb.'},\n",
       "   'ety_kurniati': {'email': 'ety_kurniati',\n",
       "    'name': 'Ety Kurniati S.ST',\n",
       "    'password': '$2b$12$2N8KkT/RA0UenZTPlphfPeLOeUG.K4oDh3ItTXqNggv5bHSVJ3Goy'},\n",
       "   'fadlilah_nur_hidayah': {'email': 'fadlilah_nur_hidayah',\n",
       "    'name': 'Fadlilah Nur Hidayah S.Tr.Stat.',\n",
       "    'password': '$2b$12$0PbvNUEf5yrV1GF3eMKz3.BoBN5wIwbdP7NYaMJaXgqfo3gUTl5ji'},\n",
       "   'farhan_anshari_arsyi': {'email': '-',\n",
       "    'name': 'Farhan Anshari Arsyi S.Tr.Stat.',\n",
       "    'password': '$2b$12$cyx13UrKLag4U4n99/U5ZOt8ORnODTATBayIK33R4nviQjgowONQq'},\n",
       "   'fenny_afifatul_awwaliyah': {'email': 'fenny_afifatul_awwaliyah',\n",
       "    'name': 'Fenny Afifatul Awwaliyah S.Tr.Stat.',\n",
       "    'password': '$2b$12$wil73uhnmcqUNiiZVVvuzeAHVtaEK3oI3JuoeNPOOcZ5Apv2UvgE2'},\n",
       "   'gusti_ngurah_agung_rama_gunawan': {'email': 'gusti_ngurah_agung_rama_gunawan',\n",
       "    'name': 'I Gusti Ngurah Agung Rama Gunawan SST.,MT',\n",
       "    'password': '$2b$12$dNLo4PjphtH5BbtKNDoj.uW2Tc9l4r5a3koy6cGE93Xh2uG6QjTDO'},\n",
       "   'henri_asri_reagan': {'email': 'henri_asri_reagan',\n",
       "    'name': 'Henri Asri Reagan SST., M.Si.',\n",
       "    'password': '$2b$12$JT/7PwO17Av55slLTboN9.H0K.dO8CiWDJYspp4sT5lrkJeB0f7JS'},\n",
       "   'indah_budiati': {'email': '-',\n",
       "    'name': 'Indah Budiati SST, M.Si',\n",
       "    'password': '$2b$12$s35/GuceS8dHa//TTKAwluuC1hx7Ek07JsXXGqk.DAU5BX63PJcgy'},\n",
       "   'julita_lovitawati_aritonang': {'email': 'julita_lovitawati_aritonang',\n",
       "    'name': 'Julita Lovitawati Br. Aritonang SST',\n",
       "    'password': '$2b$12$oKoiTyuftzAUMOHLwHrMouSHGQuJbBqfCbK2nczMx.X7fQKYdyYye'},\n",
       "   'kasiful_aprianto': {'email': '-',\n",
       "    'name': 'Kasiful Aprianto SST',\n",
       "    'password': '$2b$12$iItUAxGPnHKSHCvvsuY4j.rzFE3uJwyAEDYtCGsaYMivrtYgA4PIi'},\n",
       "   'khairunnisah': {'email': 'khairunnisah',\n",
       "    'name': 'Khairunnisah SST, M.S.E',\n",
       "    'password': '$2b$12$PEChtE.6HlM6WBbAUDk4ieE50jk6xw6fI.mdZds1DrPd/G/CMIkzm'},\n",
       "   'lestyowati_endang_widyantari': {'email': 'lestyowati_endang_widyantari',\n",
       "    'name': 'Lestyowati Endang Widyantari S.Si, M.Kesos',\n",
       "    'password': '$2b$12$DLL10wbykcaPAAf2MKYSiO2zzAlVMX8goLxHwCalFs3258zKsBEiu'},\n",
       "   'maria_audrey_widiatma': {'email': 'maria_audrey_widiatma',\n",
       "    'name': 'Maria Audrey Widiatma S.Tr.Stat.',\n",
       "    'password': '$2b$12$T2II1874wUtfbeVbqeSxS.8aVryxbx594VP/eXxYDet1AaJf0EE7G'},\n",
       "   'maulana_faris': {'email': 'maulana_faris',\n",
       "    'name': 'Maulana Faris SST',\n",
       "    'password': '$2b$12$RdN5xaATHpZv/9wN.85QEuGFlRv5KOgWoFwVTcKyGnvCyQSgFuQdq'},\n",
       "   'muhammad_ihsan': {'email': 'muhammad_ihsan',\n",
       "    'name': 'Muhammad Ihsan SST',\n",
       "    'password': '$2b$12$sVV7nVL//finFHpokSsooORVhE6BRO9LSEA16Enx3OwRwv/5KWByK'},\n",
       "   'nensi_fitria_deli': {'email': 'nensi_fitria_deli',\n",
       "    'name': 'Nensi Fitria Deli SST',\n",
       "    'password': '$2b$12$m8F9V8kirdjGhe7HhHZdlO/QEc8CEq3uU.coPMnaPOLlUfsl0d/Ly'},\n",
       "   'nia_setiyawati': {'email': 'nia_setiyawati',\n",
       "    'name': 'Nia Setiyawati SST, M.Sc',\n",
       "    'password': '$2b$12$EafOEXtDtq9yezs29UFpNOf1qx1.zase6h6C8REbf7hGUK6HuDuhi'},\n",
       "   'nur_putri_cahyo_utami': {'email': 'nur_putri_cahyo_utami',\n",
       "    'name': 'Nur Putri Cahyo Utami SST, M.P.P',\n",
       "    'password': '$2b$12$dGE3/z8yMUcyAxd1LSiywugqK9yaBm7zkoe8350EpA/Sy088fmWUC'},\n",
       "   'nurarifin': {'email': 'nurarifin',\n",
       "    'name': 'Nurarifin SST, M.Ec.Dev, M.Ec.',\n",
       "    'password': '$2b$12$SozqMEXS9kVfpCsRUCuuBe9Jk6MMlMVj7E.Ns5YNzKVqEpC1kmmBu'},\n",
       "   'nurbaety_setram': {'email': 'nurbaety_setram',\n",
       "    'name': 'Nurbaety Setram S.Si, M.S.',\n",
       "    'password': '$2b$12$8HTobsJGSrhr5zAL8s6AyOChy94e29ba1qUuyk4F/KoTkF1sK60ee'},\n",
       "   'nyoman_setiawan': {'email': 'nyoman_setiawan',\n",
       "    'name': 'I Nyoman Setiawan S.Tr.Stat.',\n",
       "    'password': '$2b$12$zExdQAOfB1HO87CH3K7a1u4en3Hd13bsoi/1t.qRedf0CIWQNcdba'},\n",
       "   'putri_wahyu_handayani': {'email': 'putri_wahyu_handayani',\n",
       "    'name': 'Putri Wahyu Handayani SST, M.S.E',\n",
       "    'password': '$2b$12$8ensqFoVhwPjrZb2a1fJ/uJ1N1OlqTArOmXwQOBI75.kW7lMa3h0.'},\n",
       "   'ranu_yulianto': {'email': 'ranu_yulianto',\n",
       "    'name': 'Ranu Yulianto SST',\n",
       "    'password': '$2b$12$U6I0cCytp82gpeMCa7NYmeGTwTL28X7QR/nDLALJ2QVuOWsUoNYlK'},\n",
       "   'rerta_mastiani': {'email': 'rerta_mastiani',\n",
       "    'name': 'Rerta Mastiani S.Si, M.Si',\n",
       "    'password': '$2b$12$fDhcWgJeFDVJz9z.M.HAROZqaS3aqTKB.P0PJQjfaMqbNmdUDLCDq'},\n",
       "   'ria_noviana': {'email': 'ria_noviana',\n",
       "    'name': 'Ria Noviana S.Tr.Stat.',\n",
       "    'password': '$2b$12$eGiD/f1hUxoBTCwRq0STs.1mUWUXHEeniqg4UORAXigjC4zNVqQae'},\n",
       "   \"sa'ad_tazkiahtu_dienulloh\": {'email': \"sa'ad_tazkiahtu_dienulloh\",\n",
       "    'name': \"Sa'ad Tazkiahtu Dienulloh SST\",\n",
       "    'password': '$2b$12$dgZHqMr/ezlIAUsa/odJM.TSGotK2qIba1QOgR00b3u9SoEX.6K3S'},\n",
       "   'satria_bagus_panuntun': {'email': 'satriabgsp22@gmail.com',\n",
       "    'name': 'Satria Bagus Panuntun S.Tr.Stat.',\n",
       "    'password': '$2b$12$0EoEvjJyAgBUhHhwSpUKDu1DaOCDbg4KH/FvcZAkG1dXp0nBufDla'},\n",
       "   'sofaria_ayuni': {'email': 'sofaria_ayuni',\n",
       "    'name': 'Sofaria Ayuni S.Si, MM',\n",
       "    'password': '$2b$12$hrmABaYwvzJ0xyRE.wxwPOF1cPkeOZ8FxZqLtSdDgc8c4zY6Tn4uy'},\n",
       "   'sukmasari_dewanti': {'email': 'sukmasari_dewanti',\n",
       "    'name': 'Sukmasari Dewanti SST, M.Sc',\n",
       "    'password': '$2b$12$HP6Jh8zYmvL5NlcRh7YDpehhp5n1Ta7hbyP2gJ4OxHT5VfJc/ZbW6'},\n",
       "   'synthia_natalia_kristiani': {'email': 'synthia_natalia_kristiani',\n",
       "    'name': 'Synthia Natalia Kristiani SST',\n",
       "    'password': '$2b$12$K.z5xipspW65ewD2xIVOW.WCdPvgkUU3cD9dNCvLbagkEv/ZBCvce'},\n",
       "   'syukriyah_delyana': {'email': 'syukriyah_delyana',\n",
       "    'name': 'Syukriyah Delyana SST',\n",
       "    'password': '$2b$12$XNpverSgxEik4WlOOq8vDu4YJ7LfKcyfx1rngO.rWDW..z6UOTh5u'},\n",
       "   'tika_meilaningsih': {'email': 'tika_meilaningsih',\n",
       "    'name': 'Tika Meilaningsih S.Tr.Stat.',\n",
       "    'password': '$2b$12$o/5bG9lu218zAicXHl4oDOw3KBvl60qvn.s4SRylfnclKtXinVFJ.'},\n",
       "   'usman_bustaman': {'email': 'usman_bustaman',\n",
       "    'name': 'Usman Bustaman S.Si, M.Sc',\n",
       "    'password': '$2b$12$9Kbr4RErTRE5xXh9Xf7bE.vaopYliZIYcHMQBe3EbYUBxvI4hofUO'},\n",
       "   'wahyu_calvin_frans_mariel': {'email': 'wahyu_calvin_frans_mariel',\n",
       "    'name': 'Wahyu Calvin Frans Mariel SST',\n",
       "    'password': '$2b$12$JbkYYH2R3mmzf6i6ORXxSuawLdIqGmrYxIL1pUige4j3SXcXDAtze'},\n",
       "   'wisnu_winardi': {'email': 'wisnu_winardi',\n",
       "    'name': 'Wisnu Winardi SST, ME.',\n",
       "    'password': '$2b$12$IUEsLaDNYlR0qEu4NI.1e.mcbIAPkk.pj3RDF8x4WCFkGLyYc2NL2'},\n",
       "   'yeshri_rahayu': {'email': 'yeshri_rahayu',\n",
       "    'name': 'Yeshri Rahayu S.Si, M.Sc, MT',\n",
       "    'password': '$2b$12$NTTxTt3XzzZzHLXsz/bL.u9Y12zSHytd8eYODUpMmVKZ4tY/8j2oG'},\n",
       "   'yohanes_eki_apriliawan': {'email': 'yohanes_eki_apriliawan',\n",
       "    'name': 'Yohanes Eki Apriliawan SST',\n",
       "    'password': '$2b$12$7X.wpExLeg9qyQajFwQV/ufvXhRtubO2mmwmq6hl/9VBrfRGKPqMC'},\n",
       "   'yoyo_karyono': {'email': 'yoyo_karyono',\n",
       "    'name': 'Yoyo Karyono SST',\n",
       "    'password': '$2b$12$fVSSzc1VznqP9yB9wZsiGuXyB5h.I9ZyHoRzJ00dVtlOWs1cINcE6'},\n",
       "   'zulfa_hidayah_satria_putri': {'email': 'zulfa_hidayah_satria_putri',\n",
       "    'name': 'Zulfa Hidayah Satria Putri SST',\n",
       "    'password': '$2b$12$pfxKtklErHVwLPwY.dnaneoTmQWu4dM3LPLAEbBa1kFYxuQbaMY2y'}}},\n",
       " 'preauthorized': {'emails': ['satriabgsp22@gmail.com']}}"
      ]
     },
     "execution_count": 10,
     "metadata": {},
     "output_type": "execute_result"
    }
   ],
   "source": [
    "import yaml\n",
    "\n",
    "# Configuration login/logout function\n",
    "with open('Users Data/config.yaml') as file:\n",
    "    config = yaml.safe_load(file)\n",
    "\n",
    "config"
   ]
  },
  {
   "cell_type": "code",
   "execution_count": 11,
   "metadata": {},
   "outputs": [
    {
     "data": {
      "text/plain": [
       "'config.yaml'"
      ]
     },
     "execution_count": 11,
     "metadata": {},
     "output_type": "execute_result"
    }
   ],
   "source": [
    "# Add config.yaml to deta database\n",
    "str_config = str(config)\n",
    "drive.put('config.yaml', io.StringIO(str_config))"
   ]
  }
 ],
 "metadata": {
  "kernelspec": {
   "display_name": "Python 3.7.5 64-bit",
   "language": "python",
   "name": "python3"
  },
  "language_info": {
   "codemirror_mode": {
    "name": "ipython",
    "version": 3
   },
   "file_extension": ".py",
   "mimetype": "text/x-python",
   "name": "python",
   "nbconvert_exporter": "python",
   "pygments_lexer": "ipython3",
   "version": "3.7.5"
  },
  "orig_nbformat": 4,
  "vscode": {
   "interpreter": {
    "hash": "2442387890269c488b82ce2682d13cf16a076c2dc49cb98a4ca82efc711157b0"
   }
  }
 },
 "nbformat": 4,
 "nbformat_minor": 2
}
